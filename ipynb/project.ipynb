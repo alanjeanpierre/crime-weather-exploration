{
 "cells": [
  {
   "cell_type": "code",
   "execution_count": null,
   "metadata": {
    "collapsed": true
   },
   "outputs": [],
   "source": [
    "import pandas as pd\n",
    "from pandas import DataFrame\n",
    "import numpy as np\n",
    "import sys, os\n",
    "import matplotlib.pyplot as plt\n",
    "%matplotlib inline\n",
    "\n",
    "cd = os.path.split(os.getcwd())[0]\n",
    "if cd not in sys.path:\n",
    "    sys.path.append(cd)\n",
    "\n",
    "from lib import noaa, bexarcrime"
   ]
  },
  {
   "cell_type": "code",
   "execution_count": null,
   "metadata": {
    "collapsed": true
   },
   "outputs": [],
   "source": [
    "dfw = noaa.noaa_from_web_small() # weather database handle"
   ]
  },
  {
   "cell_type": "code",
   "execution_count": null,
   "metadata": {
    "collapsed": true
   },
   "outputs": [],
   "source": [
    "dfc = bexarcrime.crime_from_web() # crime database handle"
   ]
  },
  {
   "cell_type": "code",
   "execution_count": null,
   "metadata": {},
   "outputs": [],
   "source": [
    "dfc = bexarcrime.get_violent_crime(bexarcrime.crime_from_web())\n",
    "dfc"
   ]
  },
  {
   "cell_type": "markdown",
   "metadata": {},
   "source": [
    "Drop all useless columns from the crime dataframe"
   ]
  },
  {
   "cell_type": "code",
   "execution_count": null,
   "metadata": {},
   "outputs": [],
   "source": [
    "dfc = dfc.drop(['CASE-CAUSE-NBR', 'FULL-NAME', 'ADDR-CITY', 'ADDR-STATE','ADDR-ZIP-CODE','OFFENSE-DESC','OFFENSE-TYPE',\n",
    "               'REDUCED-OFFENSE-CODE','REDUCED-OFFENSE-DESC','REDUCED-OFFENSE-TYPE','LOCATION','CUSTODY-DATE','BOND-DATE',\n",
    "               'BOND-STATUS','BOND-AMOUNT'],axis = 1)"
   ]
  },
  {
   "cell_type": "markdown",
   "metadata": {},
   "source": [
    "Replace all values used to represent NULL"
   ]
  },
  {
   "cell_type": "code",
   "execution_count": null,
   "metadata": {},
   "outputs": [],
   "source": [
    "dfw['Temperature'] = dfw['Temperature'].replace(9999,np.nan)\n",
    "dfw['Pressure'] = dfw['Pressure'].replace(99999,np.nan)\n",
    "dfw['Humidity'] = dfw['Humidity'].replace(999, np.nan)\n",
    "dfw['Sky'] = dfw['Sky'].replace([9,99], np.nan)"
   ]
  },
  {
   "cell_type": "markdown",
   "metadata": {},
   "source": [
    "Scale the data"
   ]
  },
  {
   "cell_type": "code",
   "execution_count": null,
   "metadata": {},
   "outputs": [],
   "source": [
    "dfw['Temperature'] = dfw['Temperature'].map(lambda x : x/10)\n",
    "dfw['Pressure'] = dfw['Pressure'].map(lambda x : x/10)\n",
    "dfw['Sky'] = dfw['Sky'].map(lambda x : x/8)"
   ]
  },
  {
   "cell_type": "markdown",
   "metadata": {},
   "source": [
    "Convert the Temperature to Farenheit"
   ]
  },
  {
   "cell_type": "code",
   "execution_count": null,
   "metadata": {},
   "outputs": [],
   "source": [
    "dfw['Temperature'] = dfw['Temperature'].map(lambda x : x * 9/5 + 32)\n",
    "dfw"
   ]
  },
  {
   "cell_type": "markdown",
   "metadata": {},
   "source": [
    "Group the weather data by the average for a day"
   ]
  },
  {
   "cell_type": "code",
   "execution_count": null,
   "metadata": {},
   "outputs": [],
   "source": [
    "dailyaverage = dfw.groupby([dfw.Date.dt.year, dfw.Date.dt.month, dfw.Date.dt.day]).mean()"
   ]
  },
  {
   "cell_type": "code",
   "execution_count": null,
   "metadata": {},
   "outputs": [],
   "source": [
    "dailyaverage.plot(subplots=True, sharex=True, figsize=[10,10])"
   ]
  },
  {
   "cell_type": "code",
   "execution_count": null,
   "metadata": {},
   "outputs": [],
   "source": []
  }
 ],
 "metadata": {
  "kernelspec": {
   "display_name": "Python 3",
   "language": "python",
   "name": "python3"
  },
  "language_info": {
   "codemirror_mode": {
    "name": "ipython",
    "version": 3
   },
   "file_extension": ".py",
   "mimetype": "text/x-python",
   "name": "python",
   "nbconvert_exporter": "python",
   "pygments_lexer": "ipython3",
   "version": "3.6.2"
  }
 },
 "nbformat": 4,
 "nbformat_minor": 2
}
